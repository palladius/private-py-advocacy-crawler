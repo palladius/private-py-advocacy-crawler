{
  "cells": [
    {
      "cell_type": "markdown",
      "id": "OUfuMcZwKLEd",
      "metadata": {
        "id": "OUfuMcZwKLEd"
      },
      "source": [
        "# OSE Content Reporting Assistant"
      ]
    },
    {
      "cell_type": "markdown",
      "id": "C-BkscqISzFJ",
      "metadata": {
        "id": "C-BkscqISzFJ"
      },
      "source": [
        "The goal of this tool is to make content reporting consistent and fast.\n",
        "\n",
        "It enables you to upload a sheet of content and then:\n",
        "* Categorize by flywheel stage\n",
        "* Categorize by AI content\n",
        "* Summarize results\n",
        "\n",
        "To use this tool, start by uploading a CSV. Then execute each of the cells with the \"Play\" button on the left."
      ]
    },
    {
      "cell_type": "markdown",
      "id": "lFR8w8mxPezl",
      "metadata": {
        "id": "lFR8w8mxPezl"
      },
      "source": [
        "## Import libraries"
      ]
    },
    {
      "cell_type": "code",
      "execution_count": 1,
      "id": "63pCyhHcRaaE",
      "metadata": {
        "colab": {
          "base_uri": "https://localhost:8080/"
        },
        "executionInfo": {
          "elapsed": 16550,
          "status": "ok",
          "timestamp": 1709906246777,
          "user": {
            "displayName": "",
            "userId": ""
          },
          "user_tz": 360
        },
        "id": "63pCyhHcRaaE",
        "outputId": "e661ddcb-4edb-44ff-be37-8391058f5b57"
      },
      "outputs": [
        {
          "name": "stdout",
          "output_type": "stream",
          "text": [
            "\u001b[31mERROR: Can not perform a '--user' install. User site-packages are not visible in this virtualenv.\u001b[0m\u001b[31m\n",
            "\u001b[0m"
          ]
        }
      ],
      "source": [
        "!pip3 install --quiet --upgrade --user google-cloud-aiplatform \\\n",
        "    beautifulsoup4 pandas plotly\n"
      ]
    },
    {
      "cell_type": "markdown",
      "id": "M1fDn8cOR7j_",
      "metadata": {
        "id": "M1fDn8cOR7j_"
      },
      "source": [
        "To load the Vertex AI SDK for Python, we'll need to restart the notebook in the next cell. You can continue from the following cell."
      ]
    },
    {
      "cell_type": "code",
      "execution_count": 2,
      "id": "ujHgl1uDRwr6",
      "metadata": {
        "colab": {
          "base_uri": "https://localhost:8080/"
        },
        "executionInfo": {
          "elapsed": 3,
          "status": "ok",
          "timestamp": 1709906246777,
          "user": {
            "displayName": "",
            "userId": ""
          },
          "user_tz": 360
        },
        "id": "ujHgl1uDRwr6",
        "outputId": "e7ec6909-1bc8-4dbd-f743-d25f2b9d3441"
      },
      "outputs": [
        {
          "data": {
            "text/plain": [
              "{'status': 'ok', 'restart': True}"
            ]
          },
          "execution_count": 2,
          "metadata": {},
          "output_type": "execute_result"
        },
        {
          "ename": "",
          "evalue": "",
          "output_type": "error",
          "traceback": [
            "\u001b[1;31mThe Kernel crashed while executing code in the current cell or a previous cell. \n",
            "\u001b[1;31mPlease review the code in the cell(s) to identify a possible cause of the failure. \n",
            "\u001b[1;31mClick <a href='https://aka.ms/vscodeJupyterKernelCrash'>here</a> for more info. \n",
            "\u001b[1;31mView Jupyter <a href='command:jupyter.viewOutput'>log</a> for further details."
          ]
        }
      ],
      "source": [
        "import IPython\n",
        "import time\n",
        "\n",
        "app = IPython.Application.instance()\n",
        "app.kernel.do_shutdown(True)"
      ]
    },
    {
      "cell_type": "code",
      "execution_count": 2,
      "id": "l9j3jChxKUGU",
      "metadata": {
        "id": "l9j3jChxKUGU"
      },
      "outputs": [],
      "source": [
        "from bs4 import BeautifulSoup\n",
        "import pandas as pd\n",
        "import plotly.express as px\n",
        "import requests\n",
        "from vertexai.generative_models import (\n",
        "    GenerationConfig,\n",
        "    GenerativeModel,\n",
        "    Image,\n",
        "    Part\n",
        ")"
      ]
    },
    {
      "cell_type": "code",
      "execution_count": 3,
      "id": "9ifBjfPHRMUR",
      "metadata": {
        "id": "9ifBjfPHRMUR"
      },
      "outputs": [
        {
          "ename": "ValueError",
          "evalue": "Unable to find your project. Please provide a project ID by:\n- Passing a constructor argument\n- Using vertexai.init()\n- Setting project using 'gcloud config set project my-project'\n- Setting a GCP environment variable\n- To create a Google Cloud project, please follow guidance at https://developers.google.com/workspace/guides/create-project",
          "output_type": "error",
          "traceback": [
            "\u001b[0;31m---------------------------------------------------------------------------\u001b[0m",
            "\u001b[0;31mValueError\u001b[0m                                Traceback (most recent call last)",
            "Cell \u001b[0;32mIn[3], line 1\u001b[0m\n\u001b[0;32m----> 1\u001b[0m model \u001b[38;5;241m=\u001b[39m \u001b[43mGenerativeModel\u001b[49m\u001b[43m(\u001b[49m\u001b[38;5;124;43m\"\u001b[39;49m\u001b[38;5;124;43mgemini-1.0-pro\u001b[39;49m\u001b[38;5;124;43m\"\u001b[39;49m\u001b[43m)\u001b[49m\n",
            "File \u001b[0;32m~/git/private-py-advocacy-crawler/.venv/lib/python3.12/site-packages/vertexai/generative_models/_generative_models.py:328\u001b[0m, in \u001b[0;36m_GenerativeModel.__init__\u001b[0;34m(self, model_name, generation_config, safety_settings, tools, tool_config, system_instruction)\u001b[0m\n\u001b[1;32m    299\u001b[0m \u001b[38;5;28;01mdef\u001b[39;00m \u001b[38;5;21m__init__\u001b[39m(\n\u001b[1;32m    300\u001b[0m     \u001b[38;5;28mself\u001b[39m,\n\u001b[1;32m    301\u001b[0m     model_name: \u001b[38;5;28mstr\u001b[39m,\n\u001b[0;32m   (...)\u001b[0m\n\u001b[1;32m    307\u001b[0m     system_instruction: Optional[PartsType] \u001b[38;5;241m=\u001b[39m \u001b[38;5;28;01mNone\u001b[39;00m,\n\u001b[1;32m    308\u001b[0m ):\n\u001b[1;32m    309\u001b[0m \u001b[38;5;250m    \u001b[39m\u001b[38;5;124mr\u001b[39m\u001b[38;5;124;03m\"\"\"Initializes GenerativeModel.\u001b[39;00m\n\u001b[1;32m    310\u001b[0m \n\u001b[1;32m    311\u001b[0m \u001b[38;5;124;03m    Usage:\u001b[39;00m\n\u001b[0;32m   (...)\u001b[0m\n\u001b[1;32m    326\u001b[0m \u001b[38;5;124;03m            Content of each part will become a separate paragraph.\u001b[39;00m\n\u001b[1;32m    327\u001b[0m \u001b[38;5;124;03m    \"\"\"\u001b[39;00m\n\u001b[0;32m--> 328\u001b[0m     project \u001b[38;5;241m=\u001b[39m \u001b[43maiplatform_initializer\u001b[49m\u001b[38;5;241;43m.\u001b[39;49m\u001b[43mglobal_config\u001b[49m\u001b[38;5;241;43m.\u001b[39;49m\u001b[43mproject\u001b[49m\n\u001b[1;32m    329\u001b[0m     location \u001b[38;5;241m=\u001b[39m aiplatform_initializer\u001b[38;5;241m.\u001b[39mglobal_config\u001b[38;5;241m.\u001b[39mlocation\n\u001b[1;32m    330\u001b[0m     model_name \u001b[38;5;241m=\u001b[39m _reconcile_model_name(model_name, project, location)\n",
            "File \u001b[0;32m~/git/private-py-advocacy-crawler/.venv/lib/python3.12/site-packages/google/cloud/aiplatform/initializer.py:318\u001b[0m, in \u001b[0;36m_Config.project\u001b[0;34m(self)\u001b[0m\n\u001b[1;32m    315\u001b[0m     \u001b[38;5;28;01mraise\u001b[39;00m GoogleAuthError(project_not_found_exception_str) \u001b[38;5;28;01mfrom\u001b[39;00m \u001b[38;5;21;01mexc\u001b[39;00m\n\u001b[1;32m    317\u001b[0m \u001b[38;5;28;01mif\u001b[39;00m \u001b[38;5;129;01mnot\u001b[39;00m project_id:\n\u001b[0;32m--> 318\u001b[0m     \u001b[38;5;28;01mraise\u001b[39;00m \u001b[38;5;167;01mValueError\u001b[39;00m(project_not_found_exception_str)\n\u001b[1;32m    320\u001b[0m \u001b[38;5;28;01mreturn\u001b[39;00m project_id\n",
            "\u001b[0;31mValueError\u001b[0m: Unable to find your project. Please provide a project ID by:\n- Passing a constructor argument\n- Using vertexai.init()\n- Setting project using 'gcloud config set project my-project'\n- Setting a GCP environment variable\n- To create a Google Cloud project, please follow guidance at https://developers.google.com/workspace/guides/create-project"
          ]
        }
      ],
      "source": [
        "model = GenerativeModel(\"gemini-1.0-pro\")"
      ]
    },
    {
      "cell_type": "markdown",
      "id": "XdnEtHY2PieM",
      "metadata": {
        "id": "XdnEtHY2PieM"
      },
      "source": [
        "## Read spreadsheet"
      ]
    },
    {
      "cell_type": "code",
      "execution_count": null,
      "id": "F6phpsaXKJNt",
      "metadata": {
        "colab": {
          "base_uri": "https://localhost:8080/",
          "height": 310
        },
        "executionInfo": {
          "elapsed": 302,
          "status": "ok",
          "timestamp": 1709906368029,
          "user": {
            "displayName": "",
            "userId": ""
          },
          "user_tz": 360
        },
        "id": "F6phpsaXKJNt",
        "outputId": "b021e526-0073-4044-930a-3af9595071d0"
      },
      "outputs": [],
      "source": [
        "csv_file_path = './January.csv'\n",
        "\n",
        "df = pd.read_csv(csv_file_path)\n",
        "df.head()"
      ]
    },
    {
      "cell_type": "markdown",
      "id": "yf65IuSNQE-W",
      "metadata": {
        "id": "yf65IuSNQE-W"
      },
      "source": [
        "## Read URL contents\n",
        "\n",
        "To help us categorize content better, let's extract the content from each URL.\n",
        "\n",
        "* This may take a couple minutes\n",
        "* Some URLs cannot be downloaded, and will display an error"
      ]
    },
    {
      "cell_type": "code",
      "execution_count": null,
      "id": "dDSEHAI0JT_8",
      "metadata": {
        "colab": {
          "base_uri": "https://localhost:8080/",
          "height": 704
        },
        "executionInfo": {
          "elapsed": 226826,
          "status": "ok",
          "timestamp": 1709906619737,
          "user": {
            "displayName": "",
            "userId": ""
          },
          "user_tz": 360
        },
        "id": "dDSEHAI0JT_8",
        "outputId": "27666511-5d3e-4923-faf7-3bc46787489c"
      },
      "outputs": [],
      "source": [
        "def extract_text_from_url(url):\n",
        "    try:\n",
        "        response = requests.get(url)\n",
        "        response.raise_for_status()  # Check for HTTP errors\n",
        "\n",
        "        soup = BeautifulSoup(response.content, 'html.parser')\n",
        "\n",
        "        text = soup.get_text(strip=True, separator=\" \")\n",
        "\n",
        "        return text\n",
        "    except requests.exceptions.RequestException as e:\n",
        "        print(f\"Error for URL {url}: {e}\")\n",
        "        return None\n",
        "\n",
        "# Apply the extraction function to every URL\n",
        "df['Contents'] = df['URL'].apply(extract_text_from_url)\n",
        "\n",
        "df.head()"
      ]
    },
    {
      "cell_type": "markdown",
      "id": "XNkcMv--Qye5",
      "metadata": {
        "id": "XNkcMv--Qye5"
      },
      "source": [
        "## Categorize Content by Flywheel Stage"
      ]
    },
    {
      "cell_type": "markdown",
      "id": "QUMQDEeSXY3R",
      "metadata": {
        "id": "QUMQDEeSXY3R"
      },
      "source": [
        "We will now create a new column in the sheet called \"Flywheel Stage - AI\" with the LLM's analysis of the appropriate flywheel stage.\n",
        "\n",
        "First, we will provide a lengthy prompt providing detailed information about each flywheel stage for a consistent categorization."
      ]
    },
    {
      "cell_type": "code",
      "execution_count": null,
      "id": "YsmvVeSXW2Yf",
      "metadata": {
        "id": "YsmvVeSXW2Yf"
      },
      "outputs": [],
      "source": [
        "flywheel_stage_prompt = \"\"\"\n",
        "What is the flywheel stage of this content? First, I will provide more info on each stage. Then, I will provide you the content details for you to evaluate.\n",
        "\n",
        "Please only reply with one word, the flywheel stage: Evaluate, Activate, Adopt, Expand, or Advocate.\n",
        "\n",
        "## Evaluate\n",
        "\n",
        "Description: Cloud developers initially discover your product and start gauging if it fits their needs.\n",
        "Content Focus: Explain your product's value proposition, key features, and pricing clearly—addressing problems/workflows relevant to cloud devs.\n",
        "Content Examples:\n",
        "* Blog Posts: \"Solving [Cloud Problem] with [Your Product]\"\n",
        "* Webinars: Quick, high-level product overview demos\n",
        "* Case Studies: How similar devs benefit from your product\n",
        "\n",
        "## Activate\n",
        "\n",
        "Description: Developers try your product, aiming to see if it delivers on its promises.\n",
        "Content Focus: Guide first-time users toward their \"aha moment\" as efficiently as possible.\n",
        "Content Examples:\n",
        "* Quick Start Guides: Step-by-step setup and basic usage\n",
        "* Interactive Tutorials: Hands-on demos in a sandbox environment\n",
        "* Cheat Sheets: Essential commands/configurations in a printable format\n",
        "\n",
        "## Adopt\n",
        "\n",
        "Description: Developers integrate your product into their projects, making it part of their toolchain.\n",
        "Content Focus: Enable devs to discover the product's depth and solve more complex problems.\n",
        "Content Examples:\n",
        "* Technical Deep Dives: Blog posts on advanced use cases\n",
        "* Best Practices Webinars: Efficient, scalable, and secure deployment methods\n",
        "* Reference Documentation: Detailed API descriptions\n",
        "\n",
        "## Expand\n",
        "\n",
        "Description: Devs uncover more ways your product can benefit their work, potentially upgrading to broader plans.\n",
        "Content Focus: Highlight features/functionality that unlock new use cases or efficiencies.\n",
        "Content Examples:\n",
        "* Integrations Showcase: How to use your product alongside other cloud development tools\n",
        "* Webinars on New/Premium Features: Targeting experienced users\n",
        "* Customer Success Stories: How devs solve wider challenges with advanced tool functionality\n",
        "\n",
        "## Advocate\n",
        "\n",
        "Description: Developers actively promote your product within their communities due to their positive experiences.\n",
        "Content Focus: Empower and incentivize users to share their expertise and enthusiasm.\n",
        "Content Examples:\n",
        "* Community Forums: Where devs help each other, with your product team's support\n",
        "* Guest Blog Posts: Devs authoring content hosted on your site\n",
        "* Referral Programs: Rewarding devs for bringing in new users\n",
        "\"\"\""
      ]
    },
    {
      "cell_type": "code",
      "execution_count": null,
      "id": "L7FncXtVWzPc",
      "metadata": {
        "colab": {
          "base_uri": "https://localhost:8080/",
          "height": 1000
        },
        "executionInfo": {
          "elapsed": 82712,
          "status": "error",
          "timestamp": 1709926721931,
          "user": {
            "displayName": "",
            "userId": ""
          },
          "user_tz": 360
        },
        "id": "L7FncXtVWzPc",
        "outputId": "68b4d12c-3fe0-4b4e-dafa-d78d83915efe"
      },
      "outputs": [],
      "source": [
        "def classify_content(prompt, content_type, title, url, contents, model):\n",
        "    if contents is None:\n",
        "      contents = ''\n",
        "    combined_prompt = f\"{prompt}\\n\\nContent Type: {content_type}\\nTitle: {title}\\nURL: {url}\\nContents: {contents}\"\n",
        "    ##print(combined_prompt)\n",
        "    response = model.generate_content(combined_prompt, stream=False).text.strip()\n",
        "    print(response)\n",
        "    return response\n",
        "\n",
        "df['Flywheel Stage - Gemini'] = df.apply(lambda row: classify_content(flywheel_stage_prompt, row['Content Type'], row['Title'], row['URL'], row['Contents'], model), axis=1)\n",
        "\n",
        "df.head()"
      ]
    },
    {
      "cell_type": "markdown",
      "id": "W8zmJK3qX-Rn",
      "metadata": {
        "id": "W8zmJK3qX-Rn"
      },
      "source": [
        "## Categorize Content by AI"
      ]
    },
    {
      "cell_type": "code",
      "execution_count": null,
      "id": "8rRk9PL2VZih",
      "metadata": {
        "colab": {
          "base_uri": "https://localhost:8080/",
          "height": 206
        },
        "executionInfo": {
          "elapsed": 94373,
          "status": "ok",
          "timestamp": 1708614375830,
          "user": {
            "displayName": "",
            "userId": ""
          },
          "user_tz": 360
        },
        "id": "8rRk9PL2VZih",
        "outputId": "09a3fd8d-bd07-487e-e7a9-fd581ec17fe4"
      },
      "outputs": [],
      "source": [
        "ai_prompt = \"\"\"Please determine if the content at least partially AI-related. Only reply with a number, 1 if yes, 0 if not.\n",
        "\"\"\"\n",
        "\n",
        "df['AI Content - Gemini'] = df.apply(lambda row: classify_content(ai_prompt, row['Content Type'], row['Title'], row['URL'], row['Contents'], model), axis=1)\n",
        "\n",
        "df.head()\n"
      ]
    },
    {
      "cell_type": "markdown",
      "id": "cFJziOFEZ5pv",
      "metadata": {
        "id": "cFJziOFEZ5pv"
      },
      "source": [
        "## Summarize results"
      ]
    },
    {
      "cell_type": "markdown",
      "id": "WZjPaKqnZ8dJ",
      "metadata": {
        "id": "WZjPaKqnZ8dJ"
      },
      "source": [
        "### Flywheel stage"
      ]
    },
    {
      "cell_type": "code",
      "execution_count": null,
      "id": "gXrs6_3ykxPE",
      "metadata": {
        "colab": {
          "base_uri": "https://localhost:8080/",
          "height": 542
        },
        "executionInfo": {
          "elapsed": 3009,
          "status": "ok",
          "timestamp": 1709926775046,
          "user": {
            "displayName": "",
            "userId": ""
          },
          "user_tz": 360
        },
        "id": "gXrs6_3ykxPE",
        "outputId": "68dd1a20-1242-44c3-aeab-79ca78afe3ca"
      },
      "outputs": [],
      "source": [
        "colors = ['blue']\n",
        "stages = ['Evaluate','Activate', 'Adopt','Expand','Advocate']\n",
        "stage_counts = [df[df['Flywheel Stage'] == stage].shape[0] for stage in stages]\n",
        "# stage_counts_ai = [df[df['Flywheel Stage - Gemini'] == stage].shape[0] for stage in stages]\n",
        "\n",
        "# Build a temporary DataFrame for structured plotting\n",
        "df_temp = pd.DataFrame({\n",
        "    'stages': stages,\n",
        "    'value': stage_counts,\n",
        "    'classification': ['Manual'] * 5\n",
        "})\n",
        "\n",
        "fig = px.line_polar(df_temp, r='value', theta='stages', color='classification',\n",
        "                    line_close=True, title='Content Classification', color_discrete_sequence=colors)\n",
        "\n",
        "fig.show()"
      ]
    },
    {
      "cell_type": "code",
      "execution_count": null,
      "id": "Avh5DP2romzI",
      "metadata": {
        "colab": {
          "base_uri": "https://localhost:8080/",
          "height": 542
        },
        "executionInfo": {
          "elapsed": 7,
          "status": "ok",
          "timestamp": 1708614375830,
          "user": {
            "displayName": "",
            "userId": ""
          },
          "user_tz": 360
        },
        "id": "Avh5DP2romzI",
        "outputId": "ae384eae-95b6-4f34-e8b5-6d72ac0105c6"
      },
      "outputs": [],
      "source": [
        "colors = ['blue', 'orange']\n",
        "stages = ['Evaluate','Activate', 'Adopt','Expand','Advocate']\n",
        "stage_counts = [df[df['Flywheel Stage'] == stage].shape[0] for stage in stages]\n",
        "stage_counts_ai = [df[df['Flywheel Stage - Gemini'] == stage].shape[0] for stage in stages]\n",
        "\n",
        "# Build a temporary DataFrame for structured plotting\n",
        "df_temp = pd.DataFrame({\n",
        "    'stages': stages * 2,\n",
        "    'value': stage_counts + stage_counts_ai,\n",
        "    'classification': ['Manual'] * 5 + ['AI'] * 5\n",
        "})\n",
        "\n",
        "fig = px.line_polar(df_temp, r='value', theta='stages', color='classification',\n",
        "                    line_close=True, title='Manual vs. AI Classification', color_discrete_sequence=colors)\n",
        "\n",
        "fig.show()"
      ]
    },
    {
      "cell_type": "code",
      "execution_count": null,
      "id": "6xx-K7BAjY-C",
      "metadata": {
        "colab": {
          "base_uri": "https://localhost:8080/",
          "height": 112
        },
        "executionInfo": {
          "elapsed": 318,
          "status": "ok",
          "timestamp": 1708617743175,
          "user": {
            "displayName": "",
            "userId": ""
          },
          "user_tz": 360
        },
        "id": "6xx-K7BAjY-C",
        "outputId": "2ae37e20-63cd-4251-ae84-b6e4bff61a23"
      },
      "outputs": [],
      "source": [
        "df_ai_content_gemini"
      ]
    },
    {
      "cell_type": "code",
      "execution_count": null,
      "id": "AMTUSLgbjnnv",
      "metadata": {
        "colab": {
          "base_uri": "https://localhost:8080/",
          "height": 112
        },
        "executionInfo": {
          "elapsed": 179,
          "status": "ok",
          "timestamp": 1708617797702,
          "user": {
            "displayName": "",
            "userId": ""
          },
          "user_tz": 360
        },
        "id": "AMTUSLgbjnnv",
        "outputId": "1031123d-0ed3-4b1d-9e54-efcc9e1c42de"
      },
      "outputs": [],
      "source": [
        "df_ai_content"
      ]
    },
    {
      "cell_type": "code",
      "execution_count": null,
      "id": "qf2BL_4YjwnF",
      "metadata": {
        "colab": {
          "base_uri": "https://localhost:8080/"
        },
        "executionInfo": {
          "elapsed": 220,
          "status": "ok",
          "timestamp": 1708617864783,
          "user": {
            "displayName": "",
            "userId": ""
          },
          "user_tz": 360
        },
        "id": "qf2BL_4YjwnF",
        "outputId": "4c72f4ea-1613-4bcd-9f11-def19e7c13bf"
      },
      "outputs": [],
      "source": [
        "df_ai_content_gemini['AI Content - Gemini'].replace({\"1\": 'AI', \"0\": 'Non-AI'})"
      ]
    },
    {
      "cell_type": "code",
      "execution_count": null,
      "id": "qK80iMRYYnxO",
      "metadata": {
        "colab": {
          "base_uri": "https://localhost:8080/",
          "height": 417
        },
        "executionInfo": {
          "elapsed": 184,
          "status": "ok",
          "timestamp": 1708618024785,
          "user": {
            "displayName": "",
            "userId": ""
          },
          "user_tz": 360
        },
        "id": "qK80iMRYYnxO",
        "outputId": "cafd8bc6-c1b2-4a40-bcdf-5fa57d84d9fa"
      },
      "outputs": [],
      "source": [
        "import pandas as pd\n",
        "import plotly.express as px\n",
        "import plotly.subplots as sp\n",
        "\n",
        "df_ai_content = df.groupby('AI Content').size().reset_index(name='Count')\n",
        "df_ai_content['AI Content'] = df_ai_content['AI Content'].replace({1: 'AI', 0: 'Non-AI'})\n",
        "\n",
        "# Pie chart for 'AI Content - Gemini'\n",
        "df_ai_content_gemini = df.groupby('AI Content - Gemini').size().reset_index(name='Count')\n",
        "df_ai_content_gemini['AI Content - Gemini'] = df_ai_content_gemini['AI Content - Gemini'].replace({\"1\": 'AI', \"0\": 'Non-AI'})\n",
        "\n",
        "fig = sp.make_subplots(rows=1, cols=2,\n",
        "                       specs=[[{\"type\": \"pie\"}, {\"type\": \"pie\"}]],\n",
        "                       subplot_titles=(\"AI Content - Manual\", \"AI Content - Gemini\"))\n",
        "\n",
        "# Pie chart for 'AI Content'\n",
        "pie1 = px.pie(df_ai_content, values='Count', names='AI Content', hole=0.3)\n",
        "pie1.update_traces(textposition='inside', textinfo='percent+label')\n",
        "\n",
        "# Pie chart for 'AI Content - Gemini'\n",
        "pie2 = px.pie(df_ai_content_gemini, values='Count', names='AI Content - Gemini', hole=0.3)\n",
        "pie2.update_traces(textposition='inside', textinfo='percent+label')\n",
        "\n",
        "# Add charts to subplots (using data property)\n",
        "fig.add_trace(pie1.data[0], row=1, col=1)\n",
        "fig.add_trace(pie2.data[0], row=1, col=2)\n",
        "\n",
        "# Adjust layout (optional)\n",
        "fig.update_layout(height=400, width=800, showlegend=False)\n",
        "\n",
        "# Display the plot\n",
        "fig.show()\n"
      ]
    }
  ],
  "metadata": {
    "colab": {
      "provenance": []
    },
    "kernelspec": {
      "display_name": "Python 3",
      "language": "python",
      "name": "python3"
    },
    "language_info": {
      "codemirror_mode": {
        "name": "ipython",
        "version": 3
      },
      "file_extension": ".py",
      "mimetype": "text/x-python",
      "name": "python",
      "nbconvert_exporter": "python",
      "pygments_lexer": "ipython3",
      "version": "3.12.4"
    }
  },
  "nbformat": 4,
  "nbformat_minor": 5
}
